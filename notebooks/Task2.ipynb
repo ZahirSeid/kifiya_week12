{
 "cells": [
  {
   "cell_type": "code",
   "execution_count": 10,
   "id": "963f5be7-a2c1-4a9d-9e6b-163513ca4e37",
   "metadata": {},
   "outputs": [],
   "source": [
    "import sys\n",
    "sys.path.append('../scripts/')\n",
    "from data_augmentation import *\n",
    "\n",
    "import warnings\n",
    "warnings.filterwarnings('ignore')"
   ]
  },
  {
   "cell_type": "code",
   "execution_count": null,
   "id": "bb7b2343-4188-41f9-88ec-ba61f7102079",
   "metadata": {},
   "outputs": [
    {
     "name": "stdout",
     "output_type": "stream",
     "text": [
      "Augmented images and labels saved to ../Data/medical_business_data/augmented_data\n"
     ]
    }
   ],
   "source": [
    "import glob\n",
    "import os\n",
    "\n",
    "# Main function to process multiple images and labels\n",
    "def main(images_path_pattern, labels_path_pattern, save_dir):\n",
    "    # Step 1: Create the augmentation pipeline\n",
    "    transform = create_augmentation_pipeline()\n",
    "    \n",
    "    # Step 2: Get list of all images and their corresponding labels\n",
    "    image_paths = glob.glob(images_path_pattern)\n",
    "    label_paths = glob.glob(labels_path_pattern)\n",
    "    \n",
    "    # Ensure the save directory exists\n",
    "    if not os.path.exists(save_dir):\n",
    "        os.makedirs(save_dir)\n",
    "        os.makedirs(os.path.join(save_dir, \"images\"))\n",
    "        os.makedirs(os.path.join(save_dir, \"labels\"))\n",
    "    \n",
    "    for image_path, label_path in zip(image_paths, label_paths):\n",
    "        # Step 3: Load the image and labels\n",
    "        image, bboxes, class_labels = load_image_and_labels(image_path, label_path)\n",
    "        \n",
    "        # Step 4: Apply augmentations\n",
    "        aug_image, aug_bboxes, aug_labels = apply_augmentations(image, bboxes, class_labels, transform)\n",
    "        \n",
    "        # Generate filenames for saving\n",
    "        image_filename = os.path.basename(image_path)\n",
    "        label_filename = os.path.basename(label_path)\n",
    "        aug_image_save_path = os.path.join(save_dir, \"images\", f\"aug_{image_filename}\")\n",
    "        aug_label_save_path = os.path.join(save_dir, \"labels\", f\"aug_{label_filename}\")\n",
    "        \n",
    "        # Step 5: Save the augmented image and labels\n",
    "        save_augmented_data(aug_image, aug_bboxes, aug_labels, aug_image_save_path, aug_label_save_path)\n",
    "        \n",
    "        # Step 6: Visualize (Optional, for debugging)\n",
    "        # visualize_bboxes(aug_image, aug_bboxes)\n",
    "\n",
    "    print(f\"Augmented images and labels saved to {save_dir}\")\n",
    "\n",
    "# Example usage\n",
    "if __name__ == \"__main__\":\n",
    "    IMAGES_PATH_PATTERN = \"../Data/train/images/*.jpg\"\n",
    "    LABELS_PATH_PATTERN = \"../Data/train/labels/*.txt\"\n",
    "    SAVE_DIR = \"../Data/medical_business_data/augmented_data\"\n",
    "    \n",
    "    main(IMAGES_PATH_PATTERN, LABELS_PATH_PATTERN, SAVE_DIR)"
   ]
  }
 ],
 "metadata": {
  "kernelspec": {
   "display_name": "Python 3 (ipykernel)",
   "language": "python",
   "name": "python3"
  },
  "language_info": {
   "codemirror_mode": {
    "name": "ipython",
    "version": 3
   },
   "file_extension": ".py",
   "mimetype": "text/x-python",
   "name": "python",
   "nbconvert_exporter": "python",
   "pygments_lexer": "ipython3",
   "version": "3.13.2"
  }
 },
 "nbformat": 4,
 "nbformat_minor": 5
}
